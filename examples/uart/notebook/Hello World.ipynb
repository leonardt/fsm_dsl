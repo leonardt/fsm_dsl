{
 "cells": [
  {
   "cell_type": "markdown",
   "metadata": {},
   "source": [
    "# Hello World on an FPGA\n",
    "Using the Lattice iCE40-HX1K iCEstick ([latticestore](http://www.latticestore.com/searchresults/tabid/463/searchid/1/searchvalue/ice40hx1k-stick-evn/default.aspx))\n",
    "\n",
    "Download and install the icestorm toolchain at http://www.clifford.at/icestorm/ (How to Install the Tools section).\n",
    "\n",
    "We begin by importing our Python dependencies."
   ]
  },
  {
   "cell_type": "code",
   "execution_count": 1,
   "metadata": {},
   "outputs": [
    {
     "name": "stdout",
     "output_type": "stream",
     "text": [
      "import magma\n",
      "import lattice ice40\n",
      "import lattice mantle40\n"
     ]
    }
   ],
   "source": [
    "from magma import *\n",
    "from mantle import Mux, Counter, CounterModM\n",
    "from loam.boards.icestick import IceStick\n",
    "import silica"
   ]
  },
  {
   "cell_type": "markdown",
   "metadata": {},
   "source": [
    "We define some constants that we will use later on."
   ]
  },
  {
   "cell_type": "code",
   "execution_count": 2,
   "metadata": {
    "collapsed": true
   },
   "outputs": [],
   "source": [
    "BAUD_RATE  = 115200\n",
    "CLOCK_RATE = int(12e6)  # 12 mhz"
   ]
  },
  {
   "cell_type": "markdown",
   "metadata": {},
   "source": [
    "We define a function to generate a ROM block with the parameters:\n",
    "* `logn` - width of the address\n",
    "* `init` - a sequence of values used to initialize the memory\n",
    "* `address` - an `Out(Array(logn, Bit))` that is used as the select input to the ROM"
   ]
  },
  {
   "cell_type": "code",
   "execution_count": 3,
   "metadata": {
    "scrolled": true
   },
   "outputs": [
    {
     "name": "stdout",
     "output_type": "stream",
     "text": [
      "compiling Addcout8\n",
      "compiling Register8R\n",
      "compiling Counter8R\n",
      "compiling CounterModM8\n",
      "compiling Register10CE\n",
      "compiling Register3CE\n",
      "compiling Or2x3\n",
      "compiling Or3x3\n",
      "compiling Register1CE\n",
      "compiling Or2x1\n",
      "compiling Or3x1\n",
      "compiling Cascade3x2_2\n",
      "compiling And2x1\n",
      "compiling Invert1\n",
      "compiling Invert3\n",
      "compiling Addcincout3\n",
      "compiling And2x3\n",
      "compiling Addcout3\n",
      "compiling Mux4\n",
      "compiling Mux8\n",
      "compiling uart_transmitter\n",
      "compiling Addcout4\n",
      "compiling Register4CER\n",
      "compiling Counter4CER\n",
      "compiling CounterModM4CE\n",
      "compiling Register4CE\n",
      "compiling Counter4CE\n",
      "compiling Mux2x8\n",
      "compiling main\n"
     ]
    }
   ],
   "source": [
    "def ROMNx8(init, A):\n",
    "    n = len(init)\n",
    "    logn = n.bit_length() - 1\n",
    "    assert len(A) == logn\n",
    "\n",
    "    muxs = [Mux(2, 8) for i in range(n - 1)]\n",
    "    for i in range(n // 2):\n",
    "        muxs[i](init[2*i], init[2*i+1], A[0])\n",
    "\n",
    "    k = 0\n",
    "    l = 1 << (logn-1)\n",
    "    for i in range(logn-1):\n",
    "        for j in range(l//2):\n",
    "            muxs[k+l+j](muxs[k+2*j], muxs[k+2*j+1], A[i+1])\n",
    "        k += l\n",
    "        l //= 2\n",
    "\n",
    "    return muxs[n-2]\n",
    "\n",
    "\n",
    "@silica.fsm(clock_enable=True)\n",
    "def uart_transmitter(data : In(Array(8, Bit)), valid : In(Bit), tx : Out(Bit)):\n",
    "    while True:\n",
    "        if valid:\n",
    "            tx = 0  # start bit\n",
    "            yield\n",
    "            for i in range(0, 8):\n",
    "                tx = data[i]\n",
    "                yield\n",
    "            tx = 1  # end bit\n",
    "            yield\n",
    "            # Holding the line high for an extra baud cycle seems to improve\n",
    "            # reliability of transmission (reduces framing issues?)\n",
    "            yield\n",
    "        else:\n",
    "            tx = 1\n",
    "            yield\n",
    "\n",
    "\n",
    "icestick = IceStick()\n",
    "icestick.Clock.on()\n",
    "icestick.TX.output().on()\n",
    "main = icestick.main()\n",
    "baud_clock = CounterModM(103, 8)\n",
    "uart = uart_transmitter()\n",
    "\n",
    "# We use a ROM to store our message, it should look up the next entry every 11\n",
    "# baud ticks (the time it takes to send the current byte)\n",
    "advance = CounterModM(11, 4, ce=True)\n",
    "wire(advance.CE, baud_clock.COUT)\n",
    "\n",
    "# This counter controls the ROM, it's clock enable is controlled by the baud\n",
    "# clock divider `advance`\n",
    "counter = Counter(4, ce=True)\n",
    "wire(counter.CE, advance.COUT)\n",
    "\n",
    "message = \"Hello, world! \\r\\n\"\n",
    "message_bytes = [int2seq(ord(char), 8) for char in message]\n",
    "rom = ROMNx8(message_bytes, counter.O)\n",
    "\n",
    "wire(uart.data, rom.O)\n",
    "wire(uart.valid, 1)\n",
    "wire(uart.tx, main.TX)\n",
    "wire(uart.CE, baud_clock.COUT)\n",
    "\n",
    "compile(\"hello_world\", main)"
   ]
  },
  {
   "cell_type": "markdown",
   "metadata": {
    "collapsed": true
   },
   "source": [
    "In this directory, run `make upload` (`make upload_mac` on MacOS) to program the icestick.\n",
    "\n",
    "Run `ls /dev/ | grep usb` to find the right serial port (note you may have to try a couple)."
   ]
  },
  {
   "cell_type": "code",
   "execution_count": 4,
   "metadata": {},
   "outputs": [
    {
     "name": "stdout",
     "output_type": "stream",
     "text": [
      "ello, world! \r\n",
      "Hello, world! \r\n",
      "Hello, world! \r\n",
      "Hello, world! \r\n",
      "Hello, world! \r\n",
      "Hello, world! \r\n",
      "Hello, world! \r\n",
      "Hello, world! \r\n",
      "Hello, world! \r\n",
      "Hello, world! \r\n",
      "Hello, world! \r\n",
      "Hello, world! \r\n",
      "Hello, world! \r\n",
      "Hello, world! \r\n",
      "Hello, world! \r\n",
      "Hello, world! \r\n",
      "Hello, world! \r\n",
      "Hello, world! \r\n",
      "Hello, world! \r\n",
      "Hello, world! \r\n",
      "Hello, world! \r\n",
      "Hello, world! \r\n",
      "Hello, world! \r\n",
      "Hello, world! \r\n",
      "Hello, world! \r\n",
      "Hello, world! \r\n",
      "Hello, world! \r\n",
      "Hello, world! \r\n",
      "Hello, world! \r\n",
      "Hello, world! \r\n",
      "Hello, world! \r\n",
      "Hello, world! \r\n",
      "Hello, world! \r\n",
      "Hello, world! \r\n",
      "Hello, world! \r\n",
      "Hello, world! \r\n",
      "Hello, world! \r\n",
      "Hello, world! \r\n",
      "Hello, world! \r\n",
      "Hello, world! \r\n",
      "Hello, world! \r\n",
      "Hello, world! \r\n",
      "Hello, world! \r\n",
      "Hello, world! \r\n",
      "Hello, world! \r\n",
      "Hello, world! \r\n",
      "Hello, world! \r\n",
      "Hello, world! \r\n",
      "Hello, world! \r\n",
      "Hello, world! \r\n",
      "H"
     ]
    }
   ],
   "source": [
    "import serial\n",
    "import time\n",
    "import sys\n",
    "\n",
    "# argument should be something like\n",
    "# /dev/tty.usbserial-142B\n",
    "# /dev/ttyUSB1\n",
    "with serial.Serial(\"/dev/tty.usbserial-1431B\", BAUD_RATE, timeout=1) as ser:\n",
    "    for i in range(10):\n",
    "        try:\n",
    "            print(ser.read(len(message) * 5).decode(), end=\"\")\n",
    "        except UnicodeDecodeError as e:\n",
    "            print(\"Experienced {}\".format(str(e)))\n",
    "            print(\"Possible framing issue, continueing\")"
   ]
  },
  {
   "cell_type": "code",
   "execution_count": null,
   "metadata": {
    "collapsed": true
   },
   "outputs": [],
   "source": []
  }
 ],
 "metadata": {
  "kernelspec": {
   "display_name": "Python 3",
   "language": "python",
   "name": "python3"
  },
  "language_info": {
   "codemirror_mode": {
    "name": "ipython",
    "version": 3
   },
   "file_extension": ".py",
   "mimetype": "text/x-python",
   "name": "python",
   "nbconvert_exporter": "python",
   "pygments_lexer": "ipython3",
   "version": "3.6.1"
  }
 },
 "nbformat": 4,
 "nbformat_minor": 2
}
