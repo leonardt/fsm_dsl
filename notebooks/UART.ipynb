{
 "cells": [
  {
   "cell_type": "code",
   "execution_count": 1,
   "metadata": {},
   "outputs": [
    {
     "name": "stdout",
     "output_type": "stream",
     "text": [
      "import mantle lattice ice40\n",
      "import mantle lattice mantle40\n"
     ]
    }
   ],
   "source": [
    "import os\n",
    "os.environ['MANTLE'] = 'lattice'\n",
    "os.environ['MANTLE_TARGET'] = 'ice40'\n",
    "\n",
    "from magma import *\n",
    "from loam.boards.icestick import IceStick, Counter\n",
    "from silica import fsm\n",
    "\n",
    "BAUD_RATE  = 115200\n",
    "CLOCK_RATE = int(12e6)  # 12 mhz"
   ]
  },
  {
   "cell_type": "code",
   "execution_count": 2,
   "metadata": {},
   "outputs": [],
   "source": [
    "@fsm(clock_enable=True)\n",
    "def uart_transmitter(data : In(Array(8, Bit)), valid : In(Bit), \n",
    "                     tx : Out(Bit)):\n",
    "    while True:\n",
    "        if valid:\n",
    "            tx = 0  # start bit\n",
    "            yield\n",
    "            for i in range(0, 8):\n",
    "                tx = data[i]\n",
    "                yield\n",
    "            tx = 1  # end bit\n",
    "            yield\n",
    "        else:\n",
    "            tx = 1\n",
    "            yield"
   ]
  },
  {
   "cell_type": "code",
   "execution_count": 3,
   "metadata": {},
   "outputs": [],
   "source": [
    "def ROMNx8(init, A):\n",
    "    n = len(init)\n",
    "    logn = n.bit_length() - 1\n",
    "    assert len(A) == logn\n",
    "\n",
    "    muxs = [Mux(2, 8) for i in range(n - 1)]\n",
    "    for i in range(n // 2):\n",
    "        muxs[i](init[2*i], init[2*i+1], A[0])\n",
    "\n",
    "    k = 0\n",
    "    l = 1 << (logn-1)\n",
    "    for i in range(logn-1):\n",
    "        for j in range(l//2):\n",
    "            muxs[k+l+j](muxs[k+2*j], muxs[k+2*j+1], A[i+1])\n",
    "        k += l\n",
    "        l //= 2\n",
    "\n",
    "    return muxs[n-2]\n",
    "\n",
    "\n",
    "# num_baud_cycles = 103\n",
    "num_baud_cycles = 10\n",
    "icestick = IceStick()\n",
    "icestick.Clock.on()\n",
    "icestick.TX.output().on()\n",
    "main = icestick.main()\n",
    "baud_clock = CounterModM(num_baud_cycles, 8)\n",
    "uart = uart_transmitter()\n",
    "\n",
    "# We use a ROM to store our message, it should look up the next entry every 11\n",
    "# baud ticks (the time it takes to send the current byte)\n",
    "advance = CounterModM(10, 4, ce=True)\n",
    "wire(advance.CE, baud_clock.COUT)\n",
    "\n",
    "# This counter controls the ROM, it's clock enable is controlled by the baud\n",
    "# clock divider `advance`\n",
    "counter = Counter(4, ce=True)\n",
    "wire(counter.CE, advance.COUT)\n",
    "\n",
    "message = \"Hello, world! \\r\\n\"\n",
    "message_bytes = [int2seq(ord(char), 8) for char in message]\n",
    "rom = ROMNx8(message_bytes, counter.O)\n",
    "\n",
    "wire(uart.data, rom.O)\n",
    "wire(uart.valid, 1)\n",
    "wire(uart.tx, main.TX)\n",
    "wire(uart.CE, baud_clock.COUT)"
   ]
  },
  {
   "cell_type": "code",
   "execution_count": 4,
   "metadata": {},
   "outputs": [
    {
     "name": "stdout",
     "output_type": "stream",
     "text": [
      "Hello, world! \r\n",
      "\n"
     ]
    }
   ],
   "source": [
    "from magma.python_simulator import PythonSimulator, Scope\n",
    "\n",
    "simulator = PythonSimulator(main)\n",
    "# TODO: Why do we need to warm up with two clock cycles?\n",
    "for _ in range(2):\n",
    "    for j in range(num_baud_cycles * 2):\n",
    "        simulator.step()\n",
    "        simulator.evaluate()\n",
    "scope = Scope()\n",
    "\n",
    "result = \"\"\n",
    "for i in range(len(message)):\n",
    "    byte = []\n",
    "    for _ in range(10):\n",
    "        for j in range(num_baud_cycles * 2):\n",
    "            simulator.step()\n",
    "            simulator.evaluate()\n",
    "        byte.append(int(simulator.get_value(main.TX, scope)))\n",
    "    result += chr(seq2int(byte[1:-1]))  # Drop the framing bits, convert to ascii char\n",
    "    \n",
    "print(result)"
   ]
  },
  {
   "cell_type": "code",
   "execution_count": null,
   "metadata": {
    "collapsed": true
   },
   "outputs": [],
   "source": []
  }
 ],
 "metadata": {
  "kernelspec": {
   "display_name": "Python 3",
   "language": "python",
   "name": "python3"
  },
  "language_info": {
   "codemirror_mode": {
    "name": "ipython",
    "version": 3
   },
   "file_extension": ".py",
   "mimetype": "text/x-python",
   "name": "python",
   "nbconvert_exporter": "python",
   "pygments_lexer": "ipython3",
   "version": "3.6.2"
  }
 },
 "nbformat": 4,
 "nbformat_minor": 2
}
